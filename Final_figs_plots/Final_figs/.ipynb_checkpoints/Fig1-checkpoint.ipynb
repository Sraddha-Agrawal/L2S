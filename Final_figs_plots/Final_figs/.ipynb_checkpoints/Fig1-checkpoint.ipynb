{
 "cells": [
  {
   "cell_type": "code",
   "execution_count": null,
   "id": "18ecf137-f384-4563-abcf-f8c85b4ac33e",
   "metadata": {},
   "outputs": [],
   "source": [
    "from ase.io import read\n",
    "import numpy as np\n",
    "import matplotlib.pyplot as plt"
   ]
  },
  {
   "cell_type": "code",
   "execution_count": null,
   "id": "73a61517-8bee-4394-9755-7c34a5dc78e1",
   "metadata": {},
   "outputs": [],
   "source": [
    "energies = np.loadtxt(\"../../analysis/toten.dat\")\n",
    "\n",
    "x = np.linspace(-0.5, 0.9, len(energies))\n",
    "x=x-x_saddle\n",
    "\n",
    "fig, ax = plt.subplots(1, 1, figsize=(4, 3), dpi=150, facecolor='white')\n",
    "\n",
    "ax.plot(x, energies, 'C0o-', markersize=1.5)\n",
    "#ax[0].plot(x, bi_yinterp(x), color='C1')\n",
    "ax.set_xlim(-0.55-x_saddle, 0.95-x_saddle)\n",
    "ax.set_ylabel('Energy (eV)')\n",
    "ax.set_xlabel('x (Å)')\n",
    "\n",
    "#ax[1].scatter(x_ah, energies_ah,color='C0', s=15)\n",
    "#ax[1].plot(x_ah, bi_yinterp(x_ah), color='C1')\n",
    "#ax[1].set_xlim(-0.8, 0.2)\n",
    "#ax[1,0].set_ylim(-1200, 2000)\n",
    "#ax[1].set_title('Anubhab\\'s_data')\n",
    "\n",
    "#fig.legend(labels=['data', 'fit'], loc=(0.4, 0.95), ncol=2, frameon=False)\n",
    "\n",
    "fig.tight_layout()\n",
    "#plt.savefig(\"../../../../../Figures/Fig-pes.png\")"
   ]
  }
 ],
 "metadata": {
  "kernelspec": {
   "display_name": "Python 3 (ipykernel)",
   "language": "python",
   "name": "python3"
  },
  "language_info": {
   "codemirror_mode": {
    "name": "ipython",
    "version": 3
   },
   "file_extension": ".py",
   "mimetype": "text/x-python",
   "name": "python",
   "nbconvert_exporter": "python",
   "pygments_lexer": "ipython3",
   "version": "3.8.18"
  }
 },
 "nbformat": 4,
 "nbformat_minor": 5
}
